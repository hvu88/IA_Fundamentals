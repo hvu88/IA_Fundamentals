{
  "nbformat": 4,
  "nbformat_minor": 0,
  "metadata": {
    "colab": {
      "provenance": [],
      "authorship_tag": "ABX9TyOM+k1EheXSJ/cF4CoMkwGF",
      "include_colab_link": true
    },
    "kernelspec": {
      "name": "python3",
      "display_name": "Python 3"
    },
    "language_info": {
      "name": "python"
    }
  },
  "cells": [
    {
      "cell_type": "markdown",
      "metadata": {
        "id": "view-in-github",
        "colab_type": "text"
      },
      "source": [
        "<a href=\"https://colab.research.google.com/github/hvu88/IA_Fundamentals/blob/main/n_queens_(simulated_annealing).ipynb\" target=\"_parent\"><img src=\"https://colab.research.google.com/assets/colab-badge.svg\" alt=\"Open In Colab\"/></a>"
      ]
    },
    {
      "cell_type": "code",
      "execution_count": 1,
      "metadata": {
        "id": "g8-SttGwH7er"
      },
      "outputs": [],
      "source": [
        "import random\n",
        "import math"
      ]
    },
    {
      "cell_type": "code",
      "source": [
        "# Función fitness que calcula cantidad de conflictos entre reinas\n",
        "\n",
        "def fitness(posiciones_reinas):\n",
        "    conflictos = 0\n",
        "    n = len(posiciones_reinas)\n",
        "    for i in range(n):\n",
        "        for j in range(i + 1, n):\n",
        "            if posiciones_reinas[i] == posiciones_reinas[j] or abs(posiciones_reinas[i] - posiciones_reinas[j]) == j - i:\n",
        "                conflictos += 1\n",
        "    return conflictos\n"
      ],
      "metadata": {
        "id": "ipWHnuH-Ibt1"
      },
      "execution_count": 2,
      "outputs": []
    },
    {
      "cell_type": "code",
      "source": [
        "# Función generadora de vecinos\n",
        "\n",
        "def generar_vecino(posiciones_reinas):\n",
        "  n_reinas = len(posiciones_reinas)\n",
        "  if n_reinas != len(set(posiciones_reinas)):\n",
        "    nuevas_posiciones =[x for x in range(n_reinas)]\n",
        "    random.shuffle(nuevas_posiciones)\n",
        "  else:\n",
        "    nuevas_posiciones = posiciones_reinas.copy()\n",
        "    i = random.randint(0, n_reinas-1)\n",
        "    j = random.randint(0, n_reinas-1)\n",
        "    while i == j:\n",
        "        j = random.randint(0, n_reinas-1)\n",
        "    nuevas_posiciones[i], nuevas_posiciones[j] = nuevas_posiciones[j], nuevas_posiciones[i]\n",
        "\n",
        "  return nuevas_posiciones\n"
      ],
      "metadata": {
        "id": "GLP5_oAAClQi"
      },
      "execution_count": 14,
      "outputs": []
    },
    {
      "cell_type": "code",
      "source": [
        "import random\n",
        "\n",
        "def generar_vecino_mejorado(posiciones_reinas):\n",
        "    n_reinas = len(posiciones_reinas)\n",
        "    nuevas_posiciones = posiciones_reinas[:]\n",
        "\n",
        "    # Seleccionar aleatoriamente la mitad de las reinas\n",
        "    num_intercambios = n_reinas // 2\n",
        "    indices_seleccionados = random.sample(range(n_reinas), num_intercambios)\n",
        "\n",
        "    # Intercambiar posiciones dentro de los índices seleccionados\n",
        "    valores_seleccionados = [nuevas_posiciones[i] for i in indices_seleccionados]\n",
        "    random.shuffle(valores_seleccionados)\n",
        "    for idx, val in zip(indices_seleccionados, valores_seleccionados):\n",
        "        nuevas_posiciones[idx] = val\n",
        "\n",
        "    return nuevas_posiciones\n",
        "\n"
      ],
      "metadata": {
        "id": "xZRoo_U9khyP"
      },
      "execution_count": 29,
      "outputs": []
    },
    {
      "cell_type": "code",
      "source": [
        "# Algoritmo de Simulated Annealing\n",
        "\n",
        "def simulated_annealing(T_max, T_min, cooling_rate, posicion_inicial):\n",
        "\n",
        "    T = T_max\n",
        "    x = posicion_inicial.copy()\n",
        "    E = fitness(x)\n",
        "    E_list = []\n",
        "\n",
        "    while T > T_min:\n",
        "      if E == 0:\n",
        "        return x, E_list\n",
        "\n",
        "      x_new = generar_vecino(x)\n",
        "      E_new = fitness(x_new)\n",
        "      delta = E_new - E\n",
        "\n",
        "      E_list.append(E_new)\n",
        "\n",
        "      if delta < 0 or random.random() < math.exp(-delta / T):\n",
        "        x = x_new\n",
        "        E = E_new\n",
        "\n",
        "      T *= cooling_rate\n",
        "\n",
        "    return x, E_list"
      ],
      "metadata": {
        "id": "qJHLCsvjIfKn"
      },
      "execution_count": 32,
      "outputs": []
    },
    {
      "cell_type": "code",
      "source": [
        "# Función que imprime un tablero nxn con n reinas\n",
        "\n",
        "def imprimir_tablero(filas, columnas, posiciones_reinas):\n",
        "    matriz = [['.' for _ in range(columnas)] for _ in range(filas)]\n",
        "\n",
        "    for fila, columna in posiciones_reinas:\n",
        "        matriz[columna][fila] = 'Q'\n",
        "\n",
        "    for fila in matriz:\n",
        "        print(' '.join(fila))"
      ],
      "metadata": {
        "id": "5fVr1xxGmjw8"
      },
      "execution_count": 49,
      "outputs": []
    },
    {
      "cell_type": "code",
      "source": [
        "import time\n",
        "\n",
        "# Implementación Simulated Annealing\n",
        "\n",
        "T_max = 1000\n",
        "#T_min = 0.000001\n",
        "T_min = 0.00001\n",
        "#T_min = 0.1\n",
        "cooling_rate = 0.999\n",
        "n= 10\n",
        "\n",
        "print(f'* Reinas: {n}')\n",
        "posicion_inicial = [random.randint(0,n-1) for x in range(n)]\n",
        "print(f'Solucion inicial: {posicion_inicial}')\n",
        "print(f'Conflictos: {fitness(posicion_inicial)}')\n",
        "imprimir_tablero(n, n, enumerate(posicion_inicial))\n",
        "print('')\n",
        "inicio = time.time()\n",
        "sol, E_historial = simulated_annealing(T_max, T_min, cooling_rate, posicion_inicial)\n",
        "fin = time.time()\n",
        "tiempo_ejecucion = fin - inicio\n",
        "print(f'Solucion final: {sol}')\n",
        "print(f'Conflictos: {fitness(sol)}')\n",
        "print(f'Iteraciones: {len(E_historial)}')\n",
        "print(f'Tiempo de ejecución: {tiempo_ejecucion} segundos')\n",
        "imprimir_tablero(n, n, enumerate(sol))\n"
      ],
      "metadata": {
        "colab": {
          "base_uri": "https://localhost:8080/"
        },
        "id": "wO4txwp_EL_n",
        "outputId": "3db33886-ed40-4c58-d3cc-18ca2edb0190"
      },
      "execution_count": 51,
      "outputs": [
        {
          "output_type": "stream",
          "name": "stdout",
          "text": [
            "* Reinas: 10\n",
            "Solucion inicial: [4, 2, 9, 6, 2, 4, 6, 0, 6, 6]\n",
            "Conflictos: 10\n",
            ". . . . . . . Q . .\n",
            ". . . . . . . . . .\n",
            ". Q . . Q . . . . .\n",
            ". . . . . . . . . .\n",
            "Q . . . . Q . . . .\n",
            ". . . . . . . . . .\n",
            ". . . Q . . Q . Q Q\n",
            ". . . . . . . . . .\n",
            ". . . . . . . . . .\n",
            ". . Q . . . . . . .\n",
            "\n",
            "Solucion final: [4, 1, 3, 8, 2, 7, 9, 6, 0, 5]\n",
            "Conflictos: 0\n",
            "Iteraciones: 5177\n",
            "Tiempo de ejecución: 0.08272433280944824 segundos\n",
            ". . . . . . . . Q .\n",
            ". Q . . . . . . . .\n",
            ". . . . Q . . . . .\n",
            ". . Q . . . . . . .\n",
            "Q . . . . . . . . .\n",
            ". . . . . . . . . Q\n",
            ". . . . . . . Q . .\n",
            ". . . . . Q . . . .\n",
            ". . . Q . . . . . .\n",
            ". . . . . . Q . . .\n"
          ]
        }
      ]
    },
    {
      "cell_type": "code",
      "source": [
        "import pandas as pd\n",
        "\n",
        "df_energy_180 = pd.DataFrame(E_historial)\n",
        "df_energy_180.to_csv(\"tabla_100.csv\")\n",
        "print(E_historial)"
      ],
      "metadata": {
        "id": "7eMru82HW7mg"
      },
      "execution_count": null,
      "outputs": []
    },
    {
      "cell_type": "code",
      "source": [
        "# Módulo de pruebas. Los resultados se guardan en un archivo csv\n",
        "\n",
        "import time\n",
        "import csv\n",
        "\n",
        "T_max = 1000\n",
        "#T_min = 0.000001\n",
        "T_min = 0.00001\n",
        "#T_min = 0.1\n",
        "cooling_rate = 0.999\n",
        "n= 2\n",
        "\n",
        "datos = [[\"n_reinas\",\"posicion_inicial\",\"conflictos\",\"solucion\",\"conflictos\",\"tiempo_ejecucion\",\"Iteraciones\"]]\n",
        "\n",
        "with open(\"archivo.csv\", mode=\"w\", newline=\"\") as archivo_csv:\n",
        "    escritor_csv = csv.writer(archivo_csv)\n",
        "    escritor_csv.writerows(datos)\n",
        "print(\"Archivo CSV creado con éxito.\")\n",
        "\n",
        "tiempo_ejecucion = 0\n",
        "# Definir tiempo_ejecucion_maximo. Las pruebas se ejecutarán, mientras alguna de las soluciones no lo supere.\n",
        "tiempo_ejecucion_maximo = 70\n",
        "while tiempo_ejecucion < tiempo_ejecucion_maximo:\n",
        "    # solucion inicial\n",
        "    posicion_inicial = [random.randint(0,n-1) for x in range(n)]\n",
        "    print(f'* Reinas: {n}')\n",
        "    # Mejor solución\n",
        "    inicio = time.time()\n",
        "    sol,E_historial = simulated_annealing(T_max, T_min, cooling_rate, posicion_inicial)\n",
        "    fin = time.time()\n",
        "    tiempo_ejecucion = fin - inicio\n",
        "    print(f'* Tiempo de ejecución: {tiempo_ejecucion} segundos')\n",
        "\n",
        "    print(f'* Iteraciones: {len(E_historial)}')\n",
        "    print('')\n",
        "\n",
        "    with open(\"archivo.csv\", mode=\"a\", newline=\"\") as archivo_csv:\n",
        "        escritor_csv = csv.writer(archivo_csv)\n",
        "        escritor_csv.writerow([n,posicion_inicial,fitness(posicion_inicial),sol,fitness(sol),tiempo_ejecucion,len(E_historial)])\n",
        "    print(\"Nuevas filas agregadas al archivo CSV.\")\n",
        "    print('')\n",
        "    n += 1"
      ],
      "metadata": {
        "id": "-LFuGIL2IjVQ"
      },
      "execution_count": null,
      "outputs": []
    }
  ]
}