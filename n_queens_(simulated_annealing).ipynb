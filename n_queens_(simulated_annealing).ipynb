{
  "nbformat": 4,
  "nbformat_minor": 0,
  "metadata": {
    "colab": {
      "provenance": [],
      "authorship_tag": "ABX9TyOU62igBNzYR8ME+rg1YyPh",
      "include_colab_link": true
    },
    "kernelspec": {
      "name": "python3",
      "display_name": "Python 3"
    },
    "language_info": {
      "name": "python"
    }
  },
  "cells": [
    {
      "cell_type": "markdown",
      "metadata": {
        "id": "view-in-github",
        "colab_type": "text"
      },
      "source": [
        "<a href=\"https://colab.research.google.com/github/hvu88/IA_Fundamentals/blob/main/n_queens_(simulated_annealing).ipynb\" target=\"_parent\"><img src=\"https://colab.research.google.com/assets/colab-badge.svg\" alt=\"Open In Colab\"/></a>"
      ]
    },
    {
      "cell_type": "code",
      "execution_count": 7,
      "metadata": {
        "id": "g8-SttGwH7er"
      },
      "outputs": [],
      "source": [
        "import random\n",
        "import math"
      ]
    },
    {
      "cell_type": "code",
      "source": [
        "# Función fitness que calcula cantidad de conflictos entre reinas\n",
        "\n",
        "def fitness(posiciones_reinas):\n",
        "    conflictos = 0\n",
        "    n = len(posiciones_reinas)\n",
        "    for i in range(n):\n",
        "        for j in range(i + 1, n):\n",
        "            if posiciones_reinas[i] == posiciones_reinas[j] or abs(posiciones_reinas[i] - posiciones_reinas[j]) == j - i:\n",
        "                conflictos += 1\n",
        "    return conflictos\n"
      ],
      "metadata": {
        "id": "ipWHnuH-Ibt1"
      },
      "execution_count": 8,
      "outputs": []
    },
    {
      "cell_type": "code",
      "source": [
        "# Función generadora de vecinos\n",
        "\n",
        "def generar_vecino(posiciones_reinas):\n",
        "  n_reinas = len(posiciones_reinas)\n",
        "  if n_reinas != len(set(posiciones_reinas)):\n",
        "    nuevas_posiciones =[x for x in range(n_reinas)]\n",
        "    random.shuffle(nuevas_posiciones)\n",
        "  else:\n",
        "    nuevas_posiciones = posiciones_reinas.copy()\n",
        "    i = random.randint(0, n_reinas-1)\n",
        "    j = random.randint(0, n_reinas-1)\n",
        "    while i == j:\n",
        "        j = random.randint(0, n_reinas-1)\n",
        "    nuevas_posiciones[i], nuevas_posiciones[j] = nuevas_posiciones[j], nuevas_posiciones[i]\n",
        "\n",
        "  return nuevas_posiciones\n"
      ],
      "metadata": {
        "id": "GLP5_oAAClQi"
      },
      "execution_count": 9,
      "outputs": []
    },
    {
      "cell_type": "code",
      "source": [
        "# Algoritmo de Simulated Annealing\n",
        "\n",
        "def simulated_annealing(T_max, T_min, cooling_rate, posicion_inicial):\n",
        "\n",
        "    T = T_max\n",
        "    x = posicion_inicial.copy()\n",
        "    E = fitness(x)\n",
        "\n",
        "    while T > T_min:\n",
        "      if E == 0:\n",
        "        return x\n",
        "\n",
        "      x_new = generar_vecino(x)\n",
        "      E_new = fitness(x_new)\n",
        "      delta = E_new - E\n",
        "\n",
        "      if delta < 0 or random.random() < math.exp(-delta / T):\n",
        "        x = x_new\n",
        "        E = E_new\n",
        "\n",
        "      T *= cooling_rate\n",
        "\n",
        "    return x"
      ],
      "metadata": {
        "id": "qJHLCsvjIfKn"
      },
      "execution_count": 10,
      "outputs": []
    },
    {
      "cell_type": "code",
      "source": [
        "# Función que imprime un tablero nxn con n reinas\n",
        "\n",
        "def imprimir_tablero(filas, columnas, posiciones_reinas):\n",
        "    matriz = [['.' for _ in range(columnas)] for _ in range(filas)]\n",
        "\n",
        "    for fila, columna in posiciones_reinas:\n",
        "        matriz[columna][fila] = 'Q'\n",
        "\n",
        "    for fila in matriz:\n",
        "        print(' '.join(fila))\n"
      ],
      "metadata": {
        "id": "5fVr1xxGmjw8"
      },
      "execution_count": 11,
      "outputs": []
    },
    {
      "cell_type": "code",
      "source": [
        "# Implementación Simulated Annealing\n",
        "\n",
        "T_max = 1000\n",
        "T_min = 0.000001\n",
        "#T_min = 0.1\n",
        "cooling_rate = 0.9999\n",
        "n= 10\n",
        "\n",
        "print(f'* Reinas: {n}')\n",
        "posicion_inicial = [random.randint(0,n-1) for x in range(n)]\n",
        "print(f'Solucion inicial: {posicion_inicial}')\n",
        "print(f'Conflictos: {fitness(posicion_inicial)}')\n",
        "imprimir_tablero(n, n, enumerate(posicion_inicial))\n",
        "print('')\n",
        "sol = simulated_annealing(T_max, T_min, cooling_rate, posicion_inicial)\n",
        "print(f'Solucion final: {sol}')\n",
        "print(f'Conflictos: {fitness(sol)}')\n",
        "imprimir_tablero(n, n, enumerate(sol))\n"
      ],
      "metadata": {
        "colab": {
          "base_uri": "https://localhost:8080/"
        },
        "id": "wO4txwp_EL_n",
        "outputId": "0b3a4eeb-d941-441e-f7bf-ec58623c7bdd"
      },
      "execution_count": 12,
      "outputs": [
        {
          "output_type": "stream",
          "name": "stdout",
          "text": [
            "* Reinas: 10\n",
            "Solucion inicial: [3, 8, 9, 2, 8, 5, 6, 5, 9, 9]\n",
            "Conflictos: 12\n",
            ". . . . . . . . . .\n",
            ". . . . . . . . . .\n",
            ". . . Q . . . . . .\n",
            "Q . . . . . . . . .\n",
            ". . . . . . . . . .\n",
            ". . . . . Q . Q . .\n",
            ". . . . . . Q . . .\n",
            ". . . . . . . . . .\n",
            ". Q . . Q . . . . .\n",
            ". . Q . . . . . Q Q\n",
            "\n",
            "Solucion final: [6, 2, 5, 1, 9, 0, 8, 4, 7, 3]\n",
            "Conflictos: 0\n",
            ". . . . . Q . . . .\n",
            ". . . Q . . . . . .\n",
            ". Q . . . . . . . .\n",
            ". . . . . . . . . Q\n",
            ". . . . . . . Q . .\n",
            ". . Q . . . . . . .\n",
            "Q . . . . . . . . .\n",
            ". . . . . . . . Q .\n",
            ". . . . . . Q . . .\n",
            ". . . . Q . . . . .\n"
          ]
        }
      ]
    },
    {
      "cell_type": "code",
      "source": [
        "# Módulo de pruebas. Los resultados se guardan en un archivo csv\n",
        "\n",
        "import time\n",
        "import csv\n",
        "\n",
        "T_max = 1000\n",
        "T_min = 0.000001\n",
        "#T_min = 0.1\n",
        "cooling_rate = 0.9999\n",
        "n= 2\n",
        "\n",
        "datos = [[\"n_reinas\",\"posicion_inicial\",\"conflictos\",\"solucion\",\"conflictos\",\"tiempo_ejecucion\"]]\n",
        "\n",
        "with open(\"archivo.csv\", mode=\"w\", newline=\"\") as archivo_csv:\n",
        "    escritor_csv = csv.writer(archivo_csv)\n",
        "    escritor_csv.writerows(datos)\n",
        "print(\"Archivo CSV creado con éxito.\")\n",
        "\n",
        "tiempo_ejecucion = 0\n",
        "# Definir tiempo_ejecucion_maximo. Las pruebas se ejecutarán, mientras alguna de las soluciones no lo supere.\n",
        "tiempo_ejecucion_maximo = 18000\n",
        "while tiempo_ejecucion < tiempo_ejecucion_maximo:\n",
        "    # solucion inicial\n",
        "    posicion_inicial = [random.randint(0,n-1) for x in range(n)]\n",
        "    print(f'* Reinas: {n}')\n",
        "    # Mejor solución\n",
        "    inicio = time.time()\n",
        "    sol = simulated_annealing(T_max, T_min, cooling_rate, posicion_inicial)\n",
        "    fin = time.time()\n",
        "    tiempo_ejecucion = fin - inicio\n",
        "    print(f'* Tiempo de ejecución: {tiempo_ejecucion} segundos')\n",
        "\n",
        "    with open(\"archivo.csv\", mode=\"a\", newline=\"\") as archivo_csv:\n",
        "        escritor_csv = csv.writer(archivo_csv)\n",
        "        escritor_csv.writerow([n,posicion_inicial,fitness(posicion_inicial),sol,fitness(sol),tiempo_ejecucion])\n",
        "    print(\"Nuevas filas agregadas al archivo CSV.\")\n",
        "    print('')\n",
        "    n += 1"
      ],
      "metadata": {
        "id": "-LFuGIL2IjVQ"
      },
      "execution_count": null,
      "outputs": []
    }
  ]
}